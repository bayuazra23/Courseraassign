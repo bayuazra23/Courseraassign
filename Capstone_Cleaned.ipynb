{
  "nbformat": 4,
  "nbformat_minor": 0,
  "metadata": {
    "colab": {
      "name": "Capstone Cleaned.ipynb",
      "provenance": [],
      "collapsed_sections": [],
      "include_colab_link": true
    },
    "kernelspec": {
      "name": "python3",
      "display_name": "Python 3"
    },
    "language_info": {
      "name": "python"
    }
  },
  "cells": [
    {
      "cell_type": "markdown",
      "metadata": {
        "id": "view-in-github",
        "colab_type": "text"
      },
      "source": [
        "<a href=\"https://colab.research.google.com/github/bayuazra23/Courseraassign/blob/main/Capstone_Cleaned.ipynb\" target=\"_parent\"><img src=\"https://colab.research.google.com/assets/colab-badge.svg\" alt=\"Open In Colab\"/></a>"
      ]
    },
    {
      "cell_type": "code",
      "execution_count": 109,
      "metadata": {
        "id": "YVv4ew7cDzH9",
        "colab": {
          "base_uri": "https://localhost:8080/"
        },
        "outputId": "3529c795-ee2a-4c5e-d649-f3785f5d9363"
      },
      "outputs": [
        {
          "output_type": "stream",
          "name": "stdout",
          "text": [
            "Looking in indexes: https://pypi.org/simple, https://us-python.pkg.dev/colab-wheels/public/simple/\n",
            "Requirement already satisfied: emoji in /usr/local/lib/python3.7/dist-packages (1.7.0)\n",
            "[nltk_data] Downloading package punkt to /root/nltk_data...\n",
            "[nltk_data]   Package punkt is already up-to-date!\n",
            "Looking in indexes: https://pypi.org/simple, https://us-python.pkg.dev/colab-wheels/public/simple/\n",
            "Requirement already satisfied: sastrawi in /usr/local/lib/python3.7/dist-packages (1.0.1)\n",
            "\u001b[31mERROR: Operation cancelled by user\u001b[0m\n",
            "Traceback (most recent call last):\n",
            "  File \"/usr/local/lib/python3.7/dist-packages/pip/_vendor/pkg_resources/__init__.py\", line 3021, in _dep_map\n",
            "    return self.__dep_map\n",
            "  File \"/usr/local/lib/python3.7/dist-packages/pip/_vendor/pkg_resources/__init__.py\", line 2815, in __getattr__\n",
            "    raise AttributeError(attr)\n",
            "AttributeError: _DistInfoDistribution__dep_map\n",
            "\n",
            "During handling of the above exception, another exception occurred:\n",
            "\n",
            "Traceback (most recent call last):\n",
            "  File \"/usr/local/lib/python3.7/dist-packages/pip/_internal/cli/base_command.py\", line 180, in _main\n",
            "    status = self.run(options, args)\n",
            "  File \"/usr/local/lib/python3.7/dist-packages/pip/_internal/cli/req_command.py\", line 199, in wrapper\n",
            "    return func(self, options, args)\n",
            "  File \"/usr/local/lib/python3.7/dist-packages/pip/_internal/commands/install.py\", line 385, in run\n",
            "    conflicts = self._determine_conflicts(to_install)\n",
            "  File \"/usr/local/lib/python3.7/dist-packages/pip/_internal/commands/install.py\", line 515, in _determine_conflicts\n",
            "    return check_install_conflicts(to_install)\n",
            "  File \"/usr/local/lib/python3.7/dist-packages/pip/_internal/operations/check.py\", line 103, in check_install_conflicts\n",
            "    package_set, _ = create_package_set_from_installed()\n",
            "  File \"/usr/local/lib/python3.7/dist-packages/pip/_internal/operations/check.py\", line 45, in create_package_set_from_installed\n",
            "    package_set[name] = PackageDetails(dist.version, dist.requires())\n",
            "  File \"/usr/local/lib/python3.7/dist-packages/pip/_vendor/pkg_resources/__init__.py\", line 2736, in requires\n",
            "    dm = self._dep_map\n",
            "  File \"/usr/local/lib/python3.7/dist-packages/pip/_vendor/pkg_resources/__init__.py\", line 3023, in _dep_map\n",
            "    self.__dep_map = self._compute_dependencies()\n",
            "  File \"/usr/local/lib/python3.7/dist-packages/pip/_vendor/pkg_resources/__init__.py\", line 3033, in _compute_dependencies\n",
            "    reqs.extend(parse_requirements(req))\n",
            "  File \"/usr/local/lib/python3.7/dist-packages/pip/_vendor/pkg_resources/__init__.py\", line 3094, in parse_requirements\n",
            "    yield Requirement(line)\n",
            "  File \"/usr/local/lib/python3.7/dist-packages/pip/_vendor/pkg_resources/__init__.py\", line 3101, in __init__\n",
            "    super(Requirement, self).__init__(requirement_string)\n",
            "  File \"/usr/local/lib/python3.7/dist-packages/pip/_vendor/packaging/requirements.py\", line 113, in __init__\n",
            "    req = REQUIREMENT.parseString(requirement_string)\n",
            "  File \"/usr/local/lib/python3.7/dist-packages/pip/_vendor/pyparsing.py\", line 1943, in parseString\n",
            "    loc, tokens = self._parse(instring, 0)\n",
            "  File \"/usr/local/lib/python3.7/dist-packages/pip/_vendor/pyparsing.py\", line 1683, in _parseNoCache\n",
            "    loc, tokens = self.parseImpl(instring, preloc, doActions)\n",
            "  File \"/usr/local/lib/python3.7/dist-packages/pip/_vendor/pyparsing.py\", line 4069, in parseImpl\n",
            "    loc, exprtokens = e._parse(instring, loc, doActions)\n",
            "  File \"/usr/local/lib/python3.7/dist-packages/pip/_vendor/pyparsing.py\", line 1683, in _parseNoCache\n",
            "    loc, tokens = self.parseImpl(instring, preloc, doActions)\n",
            "  File \"/usr/local/lib/python3.7/dist-packages/pip/_vendor/pyparsing.py\", line 4254, in parseImpl\n",
            "    ret = e._parse(instring, loc, doActions)\n",
            "  File \"/usr/local/lib/python3.7/dist-packages/pip/_vendor/pyparsing.py\", line 1683, in _parseNoCache\n",
            "    loc, tokens = self.parseImpl(instring, preloc, doActions)\n",
            "  File \"/usr/local/lib/python3.7/dist-packages/pip/_vendor/pyparsing.py\", line 4069, in parseImpl\n",
            "    loc, exprtokens = e._parse(instring, loc, doActions)\n",
            "  File \"/usr/local/lib/python3.7/dist-packages/pip/_vendor/pyparsing.py\", line 1683, in _parseNoCache\n",
            "    loc, tokens = self.parseImpl(instring, preloc, doActions)\n",
            "  File \"/usr/local/lib/python3.7/dist-packages/pip/_vendor/pyparsing.py\", line 4849, in parseImpl\n",
            "    loc, tokens = self.expr._parse(instring, loc, doActions, callPreParse=False)\n",
            "  File \"/usr/local/lib/python3.7/dist-packages/pip/_vendor/pyparsing.py\", line 1683, in _parseNoCache\n",
            "    loc, tokens = self.parseImpl(instring, preloc, doActions)\n",
            "  File \"/usr/local/lib/python3.7/dist-packages/pip/_vendor/pyparsing.py\", line 4069, in parseImpl\n",
            "    loc, exprtokens = e._parse(instring, loc, doActions)\n",
            "  File \"/usr/local/lib/python3.7/dist-packages/pip/_vendor/pyparsing.py\", line 1683, in _parseNoCache\n",
            "    loc, tokens = self.parseImpl(instring, preloc, doActions)\n",
            "  File \"/usr/local/lib/python3.7/dist-packages/pip/_vendor/pyparsing.py\", line 4069, in parseImpl\n",
            "    loc, exprtokens = e._parse(instring, loc, doActions)\n",
            "  File \"/usr/local/lib/python3.7/dist-packages/pip/_vendor/pyparsing.py\", line 1683, in _parseNoCache\n",
            "    loc, tokens = self.parseImpl(instring, preloc, doActions)\n",
            "  File \"/usr/local/lib/python3.7/dist-packages/pip/_vendor/pyparsing.py\", line 4462, in parseImpl\n",
            "    return self.expr._parse(instring, loc, doActions, callPreParse=False)\n",
            "  File \"/usr/local/lib/python3.7/dist-packages/pip/_vendor/pyparsing.py\", line 1683, in _parseNoCache\n",
            "    loc, tokens = self.parseImpl(instring, preloc, doActions)\n",
            "  File \"/usr/local/lib/python3.7/dist-packages/pip/_vendor/pyparsing.py\", line 4052, in parseImpl\n",
            "    loc, resultlist = self.exprs[0]._parse(instring, loc, doActions, callPreParse=False)\n",
            "  File \"/usr/local/lib/python3.7/dist-packages/pip/_vendor/pyparsing.py\", line 1683, in _parseNoCache\n",
            "    loc, tokens = self.parseImpl(instring, preloc, doActions)\n",
            "  File \"/usr/local/lib/python3.7/dist-packages/pip/_vendor/pyparsing.py\", line 4254, in parseImpl\n",
            "    ret = e._parse(instring, loc, doActions)\n",
            "  File \"/usr/local/lib/python3.7/dist-packages/pip/_vendor/pyparsing.py\", line 1683, in _parseNoCache\n",
            "    loc, tokens = self.parseImpl(instring, preloc, doActions)\n",
            "  File \"/usr/local/lib/python3.7/dist-packages/pip/_vendor/pyparsing.py\", line 4462, in parseImpl\n",
            "    return self.expr._parse(instring, loc, doActions, callPreParse=False)\n",
            "  File \"/usr/local/lib/python3.7/dist-packages/pip/_vendor/pyparsing.py\", line 1683, in _parseNoCache\n",
            "    loc, tokens = self.parseImpl(instring, preloc, doActions)\n",
            "  File \"/usr/local/lib/python3.7/dist-packages/pip/_vendor/pyparsing.py\", line 4069, in parseImpl\n",
            "    loc, exprtokens = e._parse(instring, loc, doActions)\n",
            "  File \"/usr/local/lib/python3.7/dist-packages/pip/_vendor/pyparsing.py\", line 1683, in _parseNoCache\n",
            "    loc, tokens = self.parseImpl(instring, preloc, doActions)\n",
            "  File \"/usr/local/lib/python3.7/dist-packages/pip/_vendor/pyparsing.py\", line 4254, in parseImpl\n",
            "    ret = e._parse(instring, loc, doActions)\n",
            "  File \"/usr/local/lib/python3.7/dist-packages/pip/_vendor/pyparsing.py\", line 1722, in _parseNoCache\n",
            "    if tokens is not None and tokens is not retTokens:\n",
            "KeyboardInterrupt\n",
            "\n",
            "During handling of the above exception, another exception occurred:\n",
            "\n",
            "Traceback (most recent call last):\n",
            "  File \"/usr/local/bin/pip3\", line 8, in <module>\n",
            "    sys.exit(main())\n",
            "  File \"/usr/local/lib/python3.7/dist-packages/pip/_internal/cli/main.py\", line 71, in main\n",
            "    return command.main(cmd_args)\n",
            "  File \"/usr/local/lib/python3.7/dist-packages/pip/_internal/cli/base_command.py\", line 104, in main\n",
            "    return self._main(args)\n",
            "  File \"/usr/local/lib/python3.7/dist-packages/pip/_internal/cli/base_command.py\", line 212, in _main\n",
            "    logger.critical(\"Operation cancelled by user\")\n",
            "  File \"/usr/lib/python3.7/logging/__init__.py\", line 1425, in critical\n",
            "    self._log(CRITICAL, msg, args, **kwargs)\n",
            "  File \"/usr/lib/python3.7/logging/__init__.py\", line 1514, in _log\n",
            "    self.handle(record)\n",
            "  File \"/usr/lib/python3.7/logging/__init__.py\", line 1524, in handle\n",
            "    self.callHandlers(record)\n",
            "  File \"/usr/lib/python3.7/logging/__init__.py\", line 1586, in callHandlers\n",
            "    hdlr.handle(record)\n",
            "  File \"/usr/lib/python3.7/logging/__init__.py\", line 894, in handle\n",
            "    self.emit(record)\n",
            "  File \"/usr/lib/python3.7/logging/handlers.py\", line 71, in emit\n",
            "    logging.FileHandler.emit(self, record)\n",
            "  File \"/usr/lib/python3.7/logging/__init__.py\", line 1127, in emit\n",
            "    StreamHandler.emit(self, record)\n",
            "  File \"/usr/lib/python3.7/logging/__init__.py\", line 1029, in emit\n",
            "    self.flush()\n",
            "  File \"/usr/lib/python3.7/logging/__init__.py\", line 1009, in flush\n",
            "    self.stream.flush()\n",
            "KeyboardInterrupt\n"
          ]
        }
      ],
      "source": [
        "!pip install emoji\n",
        "import pandas as pd\n",
        "import numpy as np\n",
        "import io\n",
        "import re\n",
        "import nltk\n",
        "import json\n",
        "nltk.download('punkt')\n",
        "from nltk.tokenize import word_tokenize\n",
        "import emoji\n",
        "!pip install sastrawi\n",
        "from Sastrawi.Stemmer.StemmerFactory import StemmerFactory\n",
        "from sklearn.model_selection import train_test_split\n",
        "import tensorflow as tf\n",
        "from tensorflow.keras.preprocessing.text import Tokenizer\n",
        "from tensorflow.keras.preprocessing.sequence import pad_sequences"
      ]
    },
    {
      "cell_type": "code",
      "source": [
        ""
      ],
      "metadata": {
        "id": "7Vwi_E5PHICz"
      },
      "execution_count": 112,
      "outputs": []
    },
    {
      "cell_type": "code",
      "source": [
        "from google.colab import drive\n",
        "drive.mount('/content/drive')"
      ],
      "metadata": {
        "colab": {
          "base_uri": "https://localhost:8080/"
        },
        "id": "4q7gv_cQEhRe",
        "outputId": "88025cd9-3670-4071-9941-a3c737a2cd74"
      },
      "execution_count": 11,
      "outputs": [
        {
          "output_type": "stream",
          "name": "stdout",
          "text": [
            "Mounted at /content/drive\n"
          ]
        }
      ]
    },
    {
      "cell_type": "code",
      "source": [
        "dataset = pd.read_csv('/content/drive/MyDrive/Capstone/Dataset   - Sheet1 (1).csv')\n",
        "dataset = dataset.fillna(' ')\n",
        "dataset"
      ],
      "metadata": {
        "colab": {
          "base_uri": "https://localhost:8080/",
          "height": 3820
        },
        "id": "-MuiMC9VFRsg",
        "outputId": "d8f968de-687e-4171-abf2-de23ec75fde8"
      },
      "execution_count": 12,
      "outputs": [
        {
          "output_type": "execute_result",
          "data": {
            "text/plain": [
              "                                                 text  \\\n",
              "0   Robot trading forex otomatis dengan hasil trad...   \n",
              "1   Net89 adalah Software Trading forex otomatis b...   \n",
              "2   Jika anda bing mencari strategi yang cocok unt...   \n",
              "3   Raibotlook merupakan system trading yg menggun...   \n",
              "4   Software Auto Trading terbaik untuk memudahkan...   \n",
              "5   Team pantau news/berita dan pergerakan pasar 2...   \n",
              "6   ROBOT AUTO TRADE GOLD 4.0\\r\\nTrading fully aut...   \n",
              "7   Perusahaan yang menciptakan teknologi robot tr...   \n",
              "8   Dapatkan potensi keuntungan tanpa harus memili...   \n",
              "9   Mencari Robot yg SABTU-MINGGU tetap kasih Cuan...   \n",
              "10  PENTING, HARAP DIBACA SAMPAI HABIS\\n\\nAUTOPILO...   \n",
              "11  KELEBIHAN EA FOX\\r\\n- Sistem Perdagangan yang ...   \n",
              "12  ROBOT FOREX UNTUK MEMBANTU ANDA MENGEKSEKUSI M...   \n",
              "13  EA INDONESIA PRO (GARUDA IDN) EA INDONESIA di ...   \n",
              "14  Keunggulan Investasi Reksa Dana di Bibit\\nBibi...   \n",
              "15  Sukuk Tabungan Seri ST008 adalah produk invest...   \n",
              "16  Deposito Rupiah J Trust adalah simpanan berjan...   \n",
              "17  Pilihan Investasi yang Memberi Keuntungan dan ...   \n",
              "18  Deposito BCA merupakan pilihan investasi yang ...   \n",
              "19  Deposito Rupiah\\r\\nSimpanan berjangka dalam ma...   \n",
              "20  BNI Deposito merupakan simpanan berjangka yang...   \n",
              "21  Sukuk Negara Ritel (Sukuk Ritel) adalah produk...   \n",
              "\n",
              "            Nama perusahan/produk  \\\n",
              "0                       SmartXBot   \n",
              "1                           Net89   \n",
              "2                          Quotex   \n",
              "3                     Raibot look   \n",
              "4                         DNA Pro   \n",
              "5                          FIN888   \n",
              "6                  Autotrade Gold   \n",
              "7                      Fahrenheit   \n",
              "8   EA50/PT. SENTRA MEGAH INDOTEK   \n",
              "9                         Mark.Ai   \n",
              "10                      AVATAR911   \n",
              "11                   Robot EA Fox   \n",
              "12             Double Marti Trend   \n",
              "13               EA Garuda Profit   \n",
              "14                          BIBIT   \n",
              "15              Sukuk Bunga ST008   \n",
              "16           Deposito Bank JTrust   \n",
              "17   Deposito Rupiah Bank Mandiri   \n",
              "18       Deposito Rupiah Bank BCA   \n",
              "19       Deposito Rupiah Bank BRI   \n",
              "20       Deposito Rupiah Bank BNI   \n",
              "21              Sukuk Ritel SR014   \n",
              "\n",
              "                                              sumber   \\\n",
              "0   https://www.lazada.co.id/products/software-tra...   \n",
              "1   https://www.tokopedia.com/dgtoys/net89-bot-tra...   \n",
              "2                              https://id-quotex.com/   \n",
              "3   https://www.facebook.com/Raibotlook-1172395436...   \n",
              "4                                                       \n",
              "5                     https://www.lpteams.com/fin888/   \n",
              "6   https://www.tokopedia.com/kameshop/robot-tradi...   \n",
              "7            https://www.instagram.com/p/CUGN5XCBv-a/   \n",
              "8                                 https://ea50idn.id/   \n",
              "9                                                       \n",
              "10  https://shopee.co.id/Autopilot-Profit-Trading-...   \n",
              "11  https://www.tokopedia.com/masterforexid/robot-...   \n",
              "12  https://www.tokopedia.com/t25shop/ea-robot-for...   \n",
              "13  https://www.tokopedia.com/l73/trading-otomatis...   \n",
              "14                                                      \n",
              "15                                                      \n",
              "16                                                      \n",
              "17                                                      \n",
              "18                                                      \n",
              "19                                                      \n",
              "20                                                      \n",
              "21                                                      \n",
              "\n",
              "                               Kategori Legalitas  \n",
              "0                         Trading Robot    ilegal  \n",
              "1                         Trading Robot    ilegal  \n",
              "2   Scam Binary Options/Futures Trading    ilegal  \n",
              "3                         Trading Robot    ilegal  \n",
              "4                         Trading Robot    ilegal  \n",
              "5                  Trading Robot, Ponzi    ilegal  \n",
              "6                         Trading Robot    ilegal  \n",
              "7                         Trading Robot    ilegal  \n",
              "8                         Trading Robot    ilegal  \n",
              "9                         Trading Robot    ilegal  \n",
              "10                        Trading Robot    ilegal  \n",
              "11                        Trading Robot    ilegal  \n",
              "12                        Trading Robot    ilegal  \n",
              "13                        Trading Robot    ilegal  \n",
              "14                                          legal  \n",
              "15                                          legal  \n",
              "16                                          legal  \n",
              "17                                          legal  \n",
              "18                                          legal  \n",
              "19                                          legal  \n",
              "20                                          legal  \n",
              "21                                          legal  "
            ],
            "text/html": [
              "\n",
              "  <div id=\"df-41f4a571-39a7-4fd5-9bd3-380c735f0e3f\">\n",
              "    <div class=\"colab-df-container\">\n",
              "      <div>\n",
              "<style scoped>\n",
              "    .dataframe tbody tr th:only-of-type {\n",
              "        vertical-align: middle;\n",
              "    }\n",
              "\n",
              "    .dataframe tbody tr th {\n",
              "        vertical-align: top;\n",
              "    }\n",
              "\n",
              "    .dataframe thead th {\n",
              "        text-align: right;\n",
              "    }\n",
              "</style>\n",
              "<table border=\"1\" class=\"dataframe\">\n",
              "  <thead>\n",
              "    <tr style=\"text-align: right;\">\n",
              "      <th></th>\n",
              "      <th>text</th>\n",
              "      <th>Nama perusahan/produk</th>\n",
              "      <th>sumber</th>\n",
              "      <th>Kategori</th>\n",
              "      <th>Legalitas</th>\n",
              "    </tr>\n",
              "  </thead>\n",
              "  <tbody>\n",
              "    <tr>\n",
              "      <th>0</th>\n",
              "      <td>Robot trading forex otomatis dengan hasil trad...</td>\n",
              "      <td>SmartXBot</td>\n",
              "      <td>https://www.lazada.co.id/products/software-tra...</td>\n",
              "      <td>Trading Robot</td>\n",
              "      <td>ilegal</td>\n",
              "    </tr>\n",
              "    <tr>\n",
              "      <th>1</th>\n",
              "      <td>Net89 adalah Software Trading forex otomatis b...</td>\n",
              "      <td>Net89</td>\n",
              "      <td>https://www.tokopedia.com/dgtoys/net89-bot-tra...</td>\n",
              "      <td>Trading Robot</td>\n",
              "      <td>ilegal</td>\n",
              "    </tr>\n",
              "    <tr>\n",
              "      <th>2</th>\n",
              "      <td>Jika anda bing mencari strategi yang cocok unt...</td>\n",
              "      <td>Quotex</td>\n",
              "      <td>https://id-quotex.com/</td>\n",
              "      <td>Scam Binary Options/Futures Trading</td>\n",
              "      <td>ilegal</td>\n",
              "    </tr>\n",
              "    <tr>\n",
              "      <th>3</th>\n",
              "      <td>Raibotlook merupakan system trading yg menggun...</td>\n",
              "      <td>Raibot look</td>\n",
              "      <td>https://www.facebook.com/Raibotlook-1172395436...</td>\n",
              "      <td>Trading Robot</td>\n",
              "      <td>ilegal</td>\n",
              "    </tr>\n",
              "    <tr>\n",
              "      <th>4</th>\n",
              "      <td>Software Auto Trading terbaik untuk memudahkan...</td>\n",
              "      <td>DNA Pro</td>\n",
              "      <td></td>\n",
              "      <td>Trading Robot</td>\n",
              "      <td>ilegal</td>\n",
              "    </tr>\n",
              "    <tr>\n",
              "      <th>5</th>\n",
              "      <td>Team pantau news/berita dan pergerakan pasar 2...</td>\n",
              "      <td>FIN888</td>\n",
              "      <td>https://www.lpteams.com/fin888/</td>\n",
              "      <td>Trading Robot, Ponzi</td>\n",
              "      <td>ilegal</td>\n",
              "    </tr>\n",
              "    <tr>\n",
              "      <th>6</th>\n",
              "      <td>ROBOT AUTO TRADE GOLD 4.0\\r\\nTrading fully aut...</td>\n",
              "      <td>Autotrade Gold</td>\n",
              "      <td>https://www.tokopedia.com/kameshop/robot-tradi...</td>\n",
              "      <td>Trading Robot</td>\n",
              "      <td>ilegal</td>\n",
              "    </tr>\n",
              "    <tr>\n",
              "      <th>7</th>\n",
              "      <td>Perusahaan yang menciptakan teknologi robot tr...</td>\n",
              "      <td>Fahrenheit</td>\n",
              "      <td>https://www.instagram.com/p/CUGN5XCBv-a/</td>\n",
              "      <td>Trading Robot</td>\n",
              "      <td>ilegal</td>\n",
              "    </tr>\n",
              "    <tr>\n",
              "      <th>8</th>\n",
              "      <td>Dapatkan potensi keuntungan tanpa harus memili...</td>\n",
              "      <td>EA50/PT. SENTRA MEGAH INDOTEK</td>\n",
              "      <td>https://ea50idn.id/</td>\n",
              "      <td>Trading Robot</td>\n",
              "      <td>ilegal</td>\n",
              "    </tr>\n",
              "    <tr>\n",
              "      <th>9</th>\n",
              "      <td>Mencari Robot yg SABTU-MINGGU tetap kasih Cuan...</td>\n",
              "      <td>Mark.Ai</td>\n",
              "      <td></td>\n",
              "      <td>Trading Robot</td>\n",
              "      <td>ilegal</td>\n",
              "    </tr>\n",
              "    <tr>\n",
              "      <th>10</th>\n",
              "      <td>PENTING, HARAP DIBACA SAMPAI HABIS\\n\\nAUTOPILO...</td>\n",
              "      <td>AVATAR911</td>\n",
              "      <td>https://shopee.co.id/Autopilot-Profit-Trading-...</td>\n",
              "      <td>Trading Robot</td>\n",
              "      <td>ilegal</td>\n",
              "    </tr>\n",
              "    <tr>\n",
              "      <th>11</th>\n",
              "      <td>KELEBIHAN EA FOX\\r\\n- Sistem Perdagangan yang ...</td>\n",
              "      <td>Robot EA Fox</td>\n",
              "      <td>https://www.tokopedia.com/masterforexid/robot-...</td>\n",
              "      <td>Trading Robot</td>\n",
              "      <td>ilegal</td>\n",
              "    </tr>\n",
              "    <tr>\n",
              "      <th>12</th>\n",
              "      <td>ROBOT FOREX UNTUK MEMBANTU ANDA MENGEKSEKUSI M...</td>\n",
              "      <td>Double Marti Trend</td>\n",
              "      <td>https://www.tokopedia.com/t25shop/ea-robot-for...</td>\n",
              "      <td>Trading Robot</td>\n",
              "      <td>ilegal</td>\n",
              "    </tr>\n",
              "    <tr>\n",
              "      <th>13</th>\n",
              "      <td>EA INDONESIA PRO (GARUDA IDN) EA INDONESIA di ...</td>\n",
              "      <td>EA Garuda Profit</td>\n",
              "      <td>https://www.tokopedia.com/l73/trading-otomatis...</td>\n",
              "      <td>Trading Robot</td>\n",
              "      <td>ilegal</td>\n",
              "    </tr>\n",
              "    <tr>\n",
              "      <th>14</th>\n",
              "      <td>Keunggulan Investasi Reksa Dana di Bibit\\nBibi...</td>\n",
              "      <td>BIBIT</td>\n",
              "      <td></td>\n",
              "      <td></td>\n",
              "      <td>legal</td>\n",
              "    </tr>\n",
              "    <tr>\n",
              "      <th>15</th>\n",
              "      <td>Sukuk Tabungan Seri ST008 adalah produk invest...</td>\n",
              "      <td>Sukuk Bunga ST008</td>\n",
              "      <td></td>\n",
              "      <td></td>\n",
              "      <td>legal</td>\n",
              "    </tr>\n",
              "    <tr>\n",
              "      <th>16</th>\n",
              "      <td>Deposito Rupiah J Trust adalah simpanan berjan...</td>\n",
              "      <td>Deposito Bank JTrust</td>\n",
              "      <td></td>\n",
              "      <td></td>\n",
              "      <td>legal</td>\n",
              "    </tr>\n",
              "    <tr>\n",
              "      <th>17</th>\n",
              "      <td>Pilihan Investasi yang Memberi Keuntungan dan ...</td>\n",
              "      <td>Deposito Rupiah Bank Mandiri</td>\n",
              "      <td></td>\n",
              "      <td></td>\n",
              "      <td>legal</td>\n",
              "    </tr>\n",
              "    <tr>\n",
              "      <th>18</th>\n",
              "      <td>Deposito BCA merupakan pilihan investasi yang ...</td>\n",
              "      <td>Deposito Rupiah Bank BCA</td>\n",
              "      <td></td>\n",
              "      <td></td>\n",
              "      <td>legal</td>\n",
              "    </tr>\n",
              "    <tr>\n",
              "      <th>19</th>\n",
              "      <td>Deposito Rupiah\\r\\nSimpanan berjangka dalam ma...</td>\n",
              "      <td>Deposito Rupiah Bank BRI</td>\n",
              "      <td></td>\n",
              "      <td></td>\n",
              "      <td>legal</td>\n",
              "    </tr>\n",
              "    <tr>\n",
              "      <th>20</th>\n",
              "      <td>BNI Deposito merupakan simpanan berjangka yang...</td>\n",
              "      <td>Deposito Rupiah Bank BNI</td>\n",
              "      <td></td>\n",
              "      <td></td>\n",
              "      <td>legal</td>\n",
              "    </tr>\n",
              "    <tr>\n",
              "      <th>21</th>\n",
              "      <td>Sukuk Negara Ritel (Sukuk Ritel) adalah produk...</td>\n",
              "      <td>Sukuk Ritel SR014</td>\n",
              "      <td></td>\n",
              "      <td></td>\n",
              "      <td>legal</td>\n",
              "    </tr>\n",
              "  </tbody>\n",
              "</table>\n",
              "</div>\n",
              "      <button class=\"colab-df-convert\" onclick=\"convertToInteractive('df-41f4a571-39a7-4fd5-9bd3-380c735f0e3f')\"\n",
              "              title=\"Convert this dataframe to an interactive table.\"\n",
              "              style=\"display:none;\">\n",
              "        \n",
              "  <svg xmlns=\"http://www.w3.org/2000/svg\" height=\"24px\"viewBox=\"0 0 24 24\"\n",
              "       width=\"24px\">\n",
              "    <path d=\"M0 0h24v24H0V0z\" fill=\"none\"/>\n",
              "    <path d=\"M18.56 5.44l.94 2.06.94-2.06 2.06-.94-2.06-.94-.94-2.06-.94 2.06-2.06.94zm-11 1L8.5 8.5l.94-2.06 2.06-.94-2.06-.94L8.5 2.5l-.94 2.06-2.06.94zm10 10l.94 2.06.94-2.06 2.06-.94-2.06-.94-.94-2.06-.94 2.06-2.06.94z\"/><path d=\"M17.41 7.96l-1.37-1.37c-.4-.4-.92-.59-1.43-.59-.52 0-1.04.2-1.43.59L10.3 9.45l-7.72 7.72c-.78.78-.78 2.05 0 2.83L4 21.41c.39.39.9.59 1.41.59.51 0 1.02-.2 1.41-.59l7.78-7.78 2.81-2.81c.8-.78.8-2.07 0-2.86zM5.41 20L4 18.59l7.72-7.72 1.47 1.35L5.41 20z\"/>\n",
              "  </svg>\n",
              "      </button>\n",
              "      \n",
              "  <style>\n",
              "    .colab-df-container {\n",
              "      display:flex;\n",
              "      flex-wrap:wrap;\n",
              "      gap: 12px;\n",
              "    }\n",
              "\n",
              "    .colab-df-convert {\n",
              "      background-color: #E8F0FE;\n",
              "      border: none;\n",
              "      border-radius: 50%;\n",
              "      cursor: pointer;\n",
              "      display: none;\n",
              "      fill: #1967D2;\n",
              "      height: 32px;\n",
              "      padding: 0 0 0 0;\n",
              "      width: 32px;\n",
              "    }\n",
              "\n",
              "    .colab-df-convert:hover {\n",
              "      background-color: #E2EBFA;\n",
              "      box-shadow: 0px 1px 2px rgba(60, 64, 67, 0.3), 0px 1px 3px 1px rgba(60, 64, 67, 0.15);\n",
              "      fill: #174EA6;\n",
              "    }\n",
              "\n",
              "    [theme=dark] .colab-df-convert {\n",
              "      background-color: #3B4455;\n",
              "      fill: #D2E3FC;\n",
              "    }\n",
              "\n",
              "    [theme=dark] .colab-df-convert:hover {\n",
              "      background-color: #434B5C;\n",
              "      box-shadow: 0px 1px 3px 1px rgba(0, 0, 0, 0.15);\n",
              "      filter: drop-shadow(0px 1px 2px rgba(0, 0, 0, 0.3));\n",
              "      fill: #FFFFFF;\n",
              "    }\n",
              "  </style>\n",
              "\n",
              "      <script>\n",
              "        const buttonEl =\n",
              "          document.querySelector('#df-41f4a571-39a7-4fd5-9bd3-380c735f0e3f button.colab-df-convert');\n",
              "        buttonEl.style.display =\n",
              "          google.colab.kernel.accessAllowed ? 'block' : 'none';\n",
              "\n",
              "        async function convertToInteractive(key) {\n",
              "          const element = document.querySelector('#df-41f4a571-39a7-4fd5-9bd3-380c735f0e3f');\n",
              "          const dataTable =\n",
              "            await google.colab.kernel.invokeFunction('convertToInteractive',\n",
              "                                                     [key], {});\n",
              "          if (!dataTable) return;\n",
              "\n",
              "          const docLinkHtml = 'Like what you see? Visit the ' +\n",
              "            '<a target=\"_blank\" href=https://colab.research.google.com/notebooks/data_table.ipynb>data table notebook</a>'\n",
              "            + ' to learn more about interactive tables.';\n",
              "          element.innerHTML = '';\n",
              "          dataTable['output_type'] = 'display_data';\n",
              "          await google.colab.output.renderOutput(dataTable, element);\n",
              "          const docLink = document.createElement('div');\n",
              "          docLink.innerHTML = docLinkHtml;\n",
              "          element.appendChild(docLink);\n",
              "        }\n",
              "      </script>\n",
              "    </div>\n",
              "  </div>\n",
              "  "
            ]
          },
          "metadata": {},
          "execution_count": 12
        }
      ]
    },
    {
      "cell_type": "code",
      "source": [
        "dataset_cleaned = dataset[[\"text\",\"Legalitas\"]]\n",
        "dataset_cleaned['text'] = dataset_cleaned['text'].str.lower() #lowercase\n",
        "# ilangin tab\n",
        "for i in range(0, (len(dataset_cleaned))):\n",
        "  temp = dataset_cleaned.loc[i, 'text']\n",
        "  temp = re.sub(r'\\n', ' ', temp ) \n",
        "#Ilangin angka and simbol\n",
        "  temp = re.sub('[^a-zA-Z,.?!]+',' ',temp)\n",
        "#Ilangin Link\n",
        "  temp = re.sub(r\"(https?:\\/\\/(?:www\\.|(?!www))[a-zA-Z0-9][a-zA-Z0-9-]+[a-zA-Z0-9]\\.[^\\s]{2,}|www\\.[a-zA-Z0-9][a-zA-Z0-9-]+[a-zA-Z0-9]\\.[^\\s]{2,}|https?:\\/\\/(?:www\\.|(?!www))[a-zA-Z0-9]+\\.[^\\s]{2,}|www\\.[a-zA-Z0-9]+\\.[^\\s]{2,})\", \"\", temp)\n",
        "#Hapus Emoji dsb\n",
        "  temp = emoji.demojize(temp)\n",
        "  temp= re.sub(':[A-Za-z_-]+:', ' ', temp) \n",
        "# hapus hashtag\n",
        "  temp= re.sub(r'#(\\S+)', r'\\1', temp)\n",
        "# rapihin spasi\n",
        "  temp = re.sub('[ ]+',' ',temp)\n",
        "  # dataset_cleaned['text'][i] = ' '.join(re.sub(\"(@[A-Za-z0-9]+)|([^0-9A-Za-z \\t])|(\\w+:\\/\\/\\S+)\",\" \",temp).split())\n",
        "  dataset_cleaned['text'][i] = temp\n"
      ],
      "metadata": {
        "colab": {
          "base_uri": "https://localhost:8080/"
        },
        "id": "xmadmytwJPJI",
        "outputId": "f7ac24f0-ca16-44a5-fc19-332a845388a8"
      },
      "execution_count": 13,
      "outputs": [
        {
          "output_type": "stream",
          "name": "stderr",
          "text": [
            "/usr/local/lib/python3.7/dist-packages/ipykernel_launcher.py:2: SettingWithCopyWarning: \n",
            "A value is trying to be set on a copy of a slice from a DataFrame.\n",
            "Try using .loc[row_indexer,col_indexer] = value instead\n",
            "\n",
            "See the caveats in the documentation: https://pandas.pydata.org/pandas-docs/stable/user_guide/indexing.html#returning-a-view-versus-a-copy\n",
            "  \n",
            "/usr/local/lib/python3.7/dist-packages/ipykernel_launcher.py:19: SettingWithCopyWarning: \n",
            "A value is trying to be set on a copy of a slice from a DataFrame\n",
            "\n",
            "See the caveats in the documentation: https://pandas.pydata.org/pandas-docs/stable/user_guide/indexing.html#returning-a-view-versus-a-copy\n"
          ]
        }
      ]
    },
    {
      "cell_type": "code",
      "source": [
        "# encoding label\n",
        "encoding = {'legal': 1, 'ilegal':0}\n",
        "dataset_cleaned = dataset_cleaned.replace(encoding)"
      ],
      "metadata": {
        "id": "ytvzSOeFQR8S"
      },
      "execution_count": 15,
      "outputs": []
    },
    {
      "cell_type": "code",
      "source": [
        "# Stemming\n",
        " #import Indonesian Stemmer\n",
        "def stemmingIndo(str):\n",
        "    factory = StemmerFactory()\n",
        "    stemmer = factory.create_stemmer()\n",
        "    return stemmer.stem(str)"
      ],
      "metadata": {
        "id": "igOGCJ9nDA7j"
      },
      "execution_count": 16,
      "outputs": []
    },
    {
      "cell_type": "code",
      "source": [
        "for i in range(0,len(dataset_cleaned)):\n",
        "  dataset_cleaned['text'][i] = stemmingIndo(dataset_cleaned['text'][i])"
      ],
      "metadata": {
        "colab": {
          "base_uri": "https://localhost:8080/"
        },
        "id": "aqubcjyvDGQJ",
        "outputId": "7433f034-f1ca-48b8-b7bc-a66928f4cfdd"
      },
      "execution_count": 17,
      "outputs": [
        {
          "output_type": "stream",
          "name": "stderr",
          "text": [
            "/usr/local/lib/python3.7/dist-packages/ipykernel_launcher.py:2: SettingWithCopyWarning: \n",
            "A value is trying to be set on a copy of a slice from a DataFrame\n",
            "\n",
            "See the caveats in the documentation: https://pandas.pydata.org/pandas-docs/stable/user_guide/indexing.html#returning-a-view-versus-a-copy\n",
            "  \n"
          ]
        }
      ]
    },
    {
      "cell_type": "code",
      "source": [
        "dataset_tokened = dataset_cleaned\n",
        "for i in range(0, (len(dataset_tokened ))):\n",
        "  temp = dataset_tokened.loc[i, 'text']\n",
        "  token_list = word_tokenize(temp)\n",
        "  # temp = \" \".join(token_list)\n",
        "  dataset_tokened['text'][i] = token_list"
      ],
      "metadata": {
        "colab": {
          "base_uri": "https://localhost:8080/"
        },
        "id": "NjY1SDpBNCsG",
        "outputId": "cb0151ad-717b-451f-894f-88d1ccfcd5a9"
      },
      "execution_count": 18,
      "outputs": [
        {
          "output_type": "stream",
          "name": "stderr",
          "text": [
            "/usr/local/lib/python3.7/dist-packages/ipykernel_launcher.py:6: SettingWithCopyWarning: \n",
            "A value is trying to be set on a copy of a slice from a DataFrame\n",
            "\n",
            "See the caveats in the documentation: https://pandas.pydata.org/pandas-docs/stable/user_guide/indexing.html#returning-a-view-versus-a-copy\n",
            "  \n"
          ]
        }
      ]
    },
    {
      "cell_type": "code",
      "source": [
        "# Remove Stopwords\n",
        "stopwords = []\n",
        "f = open(\"/content/drive/MyDrive/Capstone/id.stopwords.02.01.2016.txt\", \"r\")\n",
        "for line in f:\n",
        "  line = line.strip()\n",
        "  stopwords.append(line)"
      ],
      "metadata": {
        "id": "Vl9CY16AlFyG"
      },
      "execution_count": 19,
      "outputs": []
    },
    {
      "cell_type": "code",
      "source": [
        "# for i in range(0, (len(dataset_tokened ))):\n",
        "dataset_tokened['text']= [ word for word in dataset_tokened['text'] if word not in stopwords]"
      ],
      "metadata": {
        "id": "ld8pE5S-lvZT"
      },
      "execution_count": 20,
      "outputs": []
    },
    {
      "cell_type": "code",
      "source": [
        "for i in range(0, len(dataset_tokened)):\n",
        "  dataset_cleaned['text'][i] = \" \".join(dataset_tokened['text'][i])"
      ],
      "metadata": {
        "colab": {
          "base_uri": "https://localhost:8080/"
        },
        "id": "juYnLYNHS0Um",
        "outputId": "587f76c4-9bf5-4480-f29b-50c47e890fab"
      },
      "execution_count": 21,
      "outputs": [
        {
          "output_type": "stream",
          "name": "stderr",
          "text": [
            "/usr/local/lib/python3.7/dist-packages/ipykernel_launcher.py:2: SettingWithCopyWarning: \n",
            "A value is trying to be set on a copy of a slice from a DataFrame\n",
            "\n",
            "See the caveats in the documentation: https://pandas.pydata.org/pandas-docs/stable/user_guide/indexing.html#returning-a-view-versus-a-copy\n",
            "  \n"
          ]
        }
      ]
    },
    {
      "cell_type": "code",
      "source": [
        "dataset_cleaned"
      ],
      "metadata": {
        "colab": {
          "base_uri": "https://localhost:8080/",
          "height": 1720
        },
        "id": "ei7pb8QWEb-H",
        "outputId": "4f699918-1c04-4844-86ba-7d9a9f951add"
      },
      "execution_count": 71,
      "outputs": [
        {
          "output_type": "execute_result",
          "data": {
            "text/plain": [
              "                                                 text  Legalitas\n",
              "0   robot trading forex otomatis dengan hasil trad...          0\n",
              "1   net adalah software trading forex otomatis bua...          0\n",
              "2   jika anda bing cari strategi yang cocok untuk ...          0\n",
              "3   raibotlook rupa system trading yg guna softwar...          0\n",
              "4   software auto trading baik untuk mudah anda ha...          0\n",
              "5   team pantau news berita dan gera pasar jam cut...          0\n",
              "6   robot auto trade gold trading fully automatic ...          0\n",
              "7   usaha yang cipta teknologi robot trading denga...          0\n",
              "8   dapat potensi untung tanpa harus milik ahli da...          0\n",
              "9   cari robot yg sabtu minggu tetap kasih cuan ca...          0\n",
              "10  penting harap baca sampai habis autopilot trad...          0\n",
              "11  lebih ea fox sistem dagang yang stabil dan san...          0\n",
              "12  robot forex untuk bantu anda eksekusi market d...          0\n",
              "13  ea indonesia pro garuda idn ea indonesia di ke...          0\n",
              "14  unggul investasi reksa dana di bibit bibit ban...          1\n",
              "15  sukuk tabung seri st adalah produk investasi s...          1\n",
              "16  deposito rupiah j trust adalah simpan jangka d...          1\n",
              "17  pilih investasi yang beri untung dan rasa aman...          1\n",
              "18  deposito bca rupa pilih investasi yang tepat b...          1\n",
              "19  deposito rupiah simpan jangka dalam mata uang ...          1\n",
              "20  bni deposito rupa simpan jangka yang jadi simp...          1\n",
              "21  sukuk negara ritel sukuk ritel adalah produk i...          1"
            ],
            "text/html": [
              "\n",
              "  <div id=\"df-843c8982-acbf-4c15-8ac9-92c0f3da280a\">\n",
              "    <div class=\"colab-df-container\">\n",
              "      <div>\n",
              "<style scoped>\n",
              "    .dataframe tbody tr th:only-of-type {\n",
              "        vertical-align: middle;\n",
              "    }\n",
              "\n",
              "    .dataframe tbody tr th {\n",
              "        vertical-align: top;\n",
              "    }\n",
              "\n",
              "    .dataframe thead th {\n",
              "        text-align: right;\n",
              "    }\n",
              "</style>\n",
              "<table border=\"1\" class=\"dataframe\">\n",
              "  <thead>\n",
              "    <tr style=\"text-align: right;\">\n",
              "      <th></th>\n",
              "      <th>text</th>\n",
              "      <th>Legalitas</th>\n",
              "    </tr>\n",
              "  </thead>\n",
              "  <tbody>\n",
              "    <tr>\n",
              "      <th>0</th>\n",
              "      <td>robot trading forex otomatis dengan hasil trad...</td>\n",
              "      <td>0</td>\n",
              "    </tr>\n",
              "    <tr>\n",
              "      <th>1</th>\n",
              "      <td>net adalah software trading forex otomatis bua...</td>\n",
              "      <td>0</td>\n",
              "    </tr>\n",
              "    <tr>\n",
              "      <th>2</th>\n",
              "      <td>jika anda bing cari strategi yang cocok untuk ...</td>\n",
              "      <td>0</td>\n",
              "    </tr>\n",
              "    <tr>\n",
              "      <th>3</th>\n",
              "      <td>raibotlook rupa system trading yg guna softwar...</td>\n",
              "      <td>0</td>\n",
              "    </tr>\n",
              "    <tr>\n",
              "      <th>4</th>\n",
              "      <td>software auto trading baik untuk mudah anda ha...</td>\n",
              "      <td>0</td>\n",
              "    </tr>\n",
              "    <tr>\n",
              "      <th>5</th>\n",
              "      <td>team pantau news berita dan gera pasar jam cut...</td>\n",
              "      <td>0</td>\n",
              "    </tr>\n",
              "    <tr>\n",
              "      <th>6</th>\n",
              "      <td>robot auto trade gold trading fully automatic ...</td>\n",
              "      <td>0</td>\n",
              "    </tr>\n",
              "    <tr>\n",
              "      <th>7</th>\n",
              "      <td>usaha yang cipta teknologi robot trading denga...</td>\n",
              "      <td>0</td>\n",
              "    </tr>\n",
              "    <tr>\n",
              "      <th>8</th>\n",
              "      <td>dapat potensi untung tanpa harus milik ahli da...</td>\n",
              "      <td>0</td>\n",
              "    </tr>\n",
              "    <tr>\n",
              "      <th>9</th>\n",
              "      <td>cari robot yg sabtu minggu tetap kasih cuan ca...</td>\n",
              "      <td>0</td>\n",
              "    </tr>\n",
              "    <tr>\n",
              "      <th>10</th>\n",
              "      <td>penting harap baca sampai habis autopilot trad...</td>\n",
              "      <td>0</td>\n",
              "    </tr>\n",
              "    <tr>\n",
              "      <th>11</th>\n",
              "      <td>lebih ea fox sistem dagang yang stabil dan san...</td>\n",
              "      <td>0</td>\n",
              "    </tr>\n",
              "    <tr>\n",
              "      <th>12</th>\n",
              "      <td>robot forex untuk bantu anda eksekusi market d...</td>\n",
              "      <td>0</td>\n",
              "    </tr>\n",
              "    <tr>\n",
              "      <th>13</th>\n",
              "      <td>ea indonesia pro garuda idn ea indonesia di ke...</td>\n",
              "      <td>0</td>\n",
              "    </tr>\n",
              "    <tr>\n",
              "      <th>14</th>\n",
              "      <td>unggul investasi reksa dana di bibit bibit ban...</td>\n",
              "      <td>1</td>\n",
              "    </tr>\n",
              "    <tr>\n",
              "      <th>15</th>\n",
              "      <td>sukuk tabung seri st adalah produk investasi s...</td>\n",
              "      <td>1</td>\n",
              "    </tr>\n",
              "    <tr>\n",
              "      <th>16</th>\n",
              "      <td>deposito rupiah j trust adalah simpan jangka d...</td>\n",
              "      <td>1</td>\n",
              "    </tr>\n",
              "    <tr>\n",
              "      <th>17</th>\n",
              "      <td>pilih investasi yang beri untung dan rasa aman...</td>\n",
              "      <td>1</td>\n",
              "    </tr>\n",
              "    <tr>\n",
              "      <th>18</th>\n",
              "      <td>deposito bca rupa pilih investasi yang tepat b...</td>\n",
              "      <td>1</td>\n",
              "    </tr>\n",
              "    <tr>\n",
              "      <th>19</th>\n",
              "      <td>deposito rupiah simpan jangka dalam mata uang ...</td>\n",
              "      <td>1</td>\n",
              "    </tr>\n",
              "    <tr>\n",
              "      <th>20</th>\n",
              "      <td>bni deposito rupa simpan jangka yang jadi simp...</td>\n",
              "      <td>1</td>\n",
              "    </tr>\n",
              "    <tr>\n",
              "      <th>21</th>\n",
              "      <td>sukuk negara ritel sukuk ritel adalah produk i...</td>\n",
              "      <td>1</td>\n",
              "    </tr>\n",
              "  </tbody>\n",
              "</table>\n",
              "</div>\n",
              "      <button class=\"colab-df-convert\" onclick=\"convertToInteractive('df-843c8982-acbf-4c15-8ac9-92c0f3da280a')\"\n",
              "              title=\"Convert this dataframe to an interactive table.\"\n",
              "              style=\"display:none;\">\n",
              "        \n",
              "  <svg xmlns=\"http://www.w3.org/2000/svg\" height=\"24px\"viewBox=\"0 0 24 24\"\n",
              "       width=\"24px\">\n",
              "    <path d=\"M0 0h24v24H0V0z\" fill=\"none\"/>\n",
              "    <path d=\"M18.56 5.44l.94 2.06.94-2.06 2.06-.94-2.06-.94-.94-2.06-.94 2.06-2.06.94zm-11 1L8.5 8.5l.94-2.06 2.06-.94-2.06-.94L8.5 2.5l-.94 2.06-2.06.94zm10 10l.94 2.06.94-2.06 2.06-.94-2.06-.94-.94-2.06-.94 2.06-2.06.94z\"/><path d=\"M17.41 7.96l-1.37-1.37c-.4-.4-.92-.59-1.43-.59-.52 0-1.04.2-1.43.59L10.3 9.45l-7.72 7.72c-.78.78-.78 2.05 0 2.83L4 21.41c.39.39.9.59 1.41.59.51 0 1.02-.2 1.41-.59l7.78-7.78 2.81-2.81c.8-.78.8-2.07 0-2.86zM5.41 20L4 18.59l7.72-7.72 1.47 1.35L5.41 20z\"/>\n",
              "  </svg>\n",
              "      </button>\n",
              "      \n",
              "  <style>\n",
              "    .colab-df-container {\n",
              "      display:flex;\n",
              "      flex-wrap:wrap;\n",
              "      gap: 12px;\n",
              "    }\n",
              "\n",
              "    .colab-df-convert {\n",
              "      background-color: #E8F0FE;\n",
              "      border: none;\n",
              "      border-radius: 50%;\n",
              "      cursor: pointer;\n",
              "      display: none;\n",
              "      fill: #1967D2;\n",
              "      height: 32px;\n",
              "      padding: 0 0 0 0;\n",
              "      width: 32px;\n",
              "    }\n",
              "\n",
              "    .colab-df-convert:hover {\n",
              "      background-color: #E2EBFA;\n",
              "      box-shadow: 0px 1px 2px rgba(60, 64, 67, 0.3), 0px 1px 3px 1px rgba(60, 64, 67, 0.15);\n",
              "      fill: #174EA6;\n",
              "    }\n",
              "\n",
              "    [theme=dark] .colab-df-convert {\n",
              "      background-color: #3B4455;\n",
              "      fill: #D2E3FC;\n",
              "    }\n",
              "\n",
              "    [theme=dark] .colab-df-convert:hover {\n",
              "      background-color: #434B5C;\n",
              "      box-shadow: 0px 1px 3px 1px rgba(0, 0, 0, 0.15);\n",
              "      filter: drop-shadow(0px 1px 2px rgba(0, 0, 0, 0.3));\n",
              "      fill: #FFFFFF;\n",
              "    }\n",
              "  </style>\n",
              "\n",
              "      <script>\n",
              "        const buttonEl =\n",
              "          document.querySelector('#df-843c8982-acbf-4c15-8ac9-92c0f3da280a button.colab-df-convert');\n",
              "        buttonEl.style.display =\n",
              "          google.colab.kernel.accessAllowed ? 'block' : 'none';\n",
              "\n",
              "        async function convertToInteractive(key) {\n",
              "          const element = document.querySelector('#df-843c8982-acbf-4c15-8ac9-92c0f3da280a');\n",
              "          const dataTable =\n",
              "            await google.colab.kernel.invokeFunction('convertToInteractive',\n",
              "                                                     [key], {});\n",
              "          if (!dataTable) return;\n",
              "\n",
              "          const docLinkHtml = 'Like what you see? Visit the ' +\n",
              "            '<a target=\"_blank\" href=https://colab.research.google.com/notebooks/data_table.ipynb>data table notebook</a>'\n",
              "            + ' to learn more about interactive tables.';\n",
              "          element.innerHTML = '';\n",
              "          dataTable['output_type'] = 'display_data';\n",
              "          await google.colab.output.renderOutput(dataTable, element);\n",
              "          const docLink = document.createElement('div');\n",
              "          docLink.innerHTML = docLinkHtml;\n",
              "          element.appendChild(docLink);\n",
              "        }\n",
              "      </script>\n",
              "    </div>\n",
              "  </div>\n",
              "  "
            ]
          },
          "metadata": {},
          "execution_count": 71
        }
      ]
    },
    {
      "cell_type": "code",
      "source": [
        "# SPlit\n",
        "X_train, X_test, y_train, y_test = train_test_split(dataset_cleaned['text'], dataset_cleaned['Legalitas'], test_size=0.3, random_state=42)"
      ],
      "metadata": {
        "id": "IY1X65MAM55Y"
      },
      "execution_count": 22,
      "outputs": []
    },
    {
      "cell_type": "markdown",
      "source": [
        "#Tokenizing"
      ],
      "metadata": {
        "id": "g9eWO6DmDHgZ"
      }
    },
    {
      "cell_type": "code",
      "source": [
        "vocab_size = 50000\n",
        "max_length = 500\n",
        "trunc_type='post'\n",
        "padding_type='post'\n",
        "oov_tok = \"<OOV>\""
      ],
      "metadata": {
        "id": "gcg2Cdiu_r1p"
      },
      "execution_count": 72,
      "outputs": []
    },
    {
      "cell_type": "code",
      "source": [
        "# Initialize the Tokenizer class\n",
        "tokenizer = Tokenizer(num_words=vocab_size, oov_token=oov_tok)\n",
        "\n",
        "# Generate the word index dictionary\n",
        "tokenizer.fit_on_texts(dataset_cleaned['text'])\n",
        "word_index = tokenizer.word_index"
      ],
      "metadata": {
        "id": "GYwE6jrGNJWi"
      },
      "execution_count": 78,
      "outputs": []
    },
    {
      "cell_type": "code",
      "source": [
        "\n",
        "\n",
        "# Initialize the Tokenizer class\n",
        "tokenizer = Tokenizer(num_words=vocab_size, oov_token=oov_tok)\n",
        "\n",
        "# Generate the word index dictionary\n",
        "tokenizer.fit_on_texts(dataset_cleaned['text'])\n",
        "word_index = tokenizer.word_index\n",
        "\n",
        "# Generate and pad the training sequences\n",
        "training_sequences = tokenizer.texts_to_sequences(X_train)\n",
        "training_padded = pad_sequences(training_sequences, maxlen=max_length, padding=padding_type, truncating=trunc_type)\n",
        "\n",
        "# Generate and pad the testing sequences\n",
        "testing_sequences = tokenizer.texts_to_sequences(X_test)\n",
        "testing_padded = pad_sequences(testing_sequences, maxlen=max_length, padding=padding_type, truncating=trunc_type)\n",
        "\n",
        "# Convert the labels lists into numpy arrays\n",
        "training_labels = np.array(y_train)\n",
        "testing_labels = np.array(y_test)"
      ],
      "metadata": {
        "id": "3SSj2PygMixy"
      },
      "execution_count": 79,
      "outputs": []
    },
    {
      "cell_type": "markdown",
      "source": [
        "#Model"
      ],
      "metadata": {
        "id": "LCzWf-obK0vJ"
      }
    },
    {
      "cell_type": "code",
      "source": [
        "\n",
        "# Parameters\n",
        "embedding_dim = 16\n",
        "lstm_dim = 32\n",
        "dense_dim = 24\n",
        "vocab_size = 50000\n",
        "max_length = 500\n",
        "# Model Definition with LSTM\n",
        "model_lstm = tf.keras.Sequential([\n",
        "    tf.keras.layers.Embedding(vocab_size, embedding_dim, input_length=max_length),\n",
        "    tf.keras.layers.Bidirectional(tf.keras.layers.LSTM(lstm_dim)),\n",
        "    tf.keras.layers.Dense(dense_dim, activation='relu'),\n",
        "    tf.keras.layers.Dense(1, activation='sigmoid')\n",
        "])\n",
        "\n",
        "# Set the training parameters\n",
        "model_lstm.compile(loss='binary_crossentropy',optimizer='adam',metrics=['accuracy'])\n",
        "\n",
        "# Print the model summary\n",
        "model_lstm.summary()"
      ],
      "metadata": {
        "colab": {
          "base_uri": "https://localhost:8080/"
        },
        "id": "bthZqs4-K2xp",
        "outputId": "9aed17f7-05d0-4a66-df83-7af4e3a7c8c0"
      },
      "execution_count": 77,
      "outputs": [
        {
          "output_type": "stream",
          "name": "stdout",
          "text": [
            "Model: \"sequential_2\"\n",
            "_________________________________________________________________\n",
            " Layer (type)                Output Shape              Param #   \n",
            "=================================================================\n",
            " embedding_2 (Embedding)     (None, 500, 16)           800000    \n",
            "                                                                 \n",
            " bidirectional_2 (Bidirectio  (None, 64)               12544     \n",
            " nal)                                                            \n",
            "                                                                 \n",
            " dense_4 (Dense)             (None, 24)                1560      \n",
            "                                                                 \n",
            " dense_5 (Dense)             (None, 1)                 25        \n",
            "                                                                 \n",
            "=================================================================\n",
            "Total params: 814,129\n",
            "Trainable params: 814,129\n",
            "Non-trainable params: 0\n",
            "_________________________________________________________________\n"
          ]
        }
      ]
    },
    {
      "cell_type": "code",
      "source": [
        "NUM_EPOCHS = 20\n",
        "\n",
        "# Train the model\n",
        "history_lstm = model_lstm.fit(training_padded, training_labels, epochs=NUM_EPOCHS, validation_data=(testing_padded, testing_labels))"
      ],
      "metadata": {
        "colab": {
          "base_uri": "https://localhost:8080/"
        },
        "id": "6jCMrtBgLcZs",
        "outputId": "2ac46732-6462-4a38-af3a-e135e0725b02"
      },
      "execution_count": 80,
      "outputs": [
        {
          "output_type": "stream",
          "name": "stdout",
          "text": [
            "Epoch 1/20\n",
            "1/1 [==============================] - 5s 5s/step - loss: 0.6935 - accuracy: 0.4000 - val_loss: 0.6893 - val_accuracy: 0.7143\n",
            "Epoch 2/20\n",
            "1/1 [==============================] - 0s 367ms/step - loss: 0.6907 - accuracy: 0.6000 - val_loss: 0.6865 - val_accuracy: 0.7143\n",
            "Epoch 3/20\n",
            "1/1 [==============================] - 0s 355ms/step - loss: 0.6888 - accuracy: 0.6000 - val_loss: 0.6841 - val_accuracy: 0.7143\n",
            "Epoch 4/20\n",
            "1/1 [==============================] - 0s 375ms/step - loss: 0.6873 - accuracy: 0.6000 - val_loss: 0.6817 - val_accuracy: 0.7143\n",
            "Epoch 5/20\n",
            "1/1 [==============================] - 0s 369ms/step - loss: 0.6856 - accuracy: 0.6000 - val_loss: 0.6790 - val_accuracy: 0.7143\n",
            "Epoch 6/20\n",
            "1/1 [==============================] - 0s 370ms/step - loss: 0.6837 - accuracy: 0.6000 - val_loss: 0.6759 - val_accuracy: 0.7143\n",
            "Epoch 7/20\n",
            "1/1 [==============================] - 0s 360ms/step - loss: 0.6817 - accuracy: 0.6000 - val_loss: 0.6726 - val_accuracy: 0.7143\n",
            "Epoch 8/20\n",
            "1/1 [==============================] - 0s 365ms/step - loss: 0.6794 - accuracy: 0.6000 - val_loss: 0.6692 - val_accuracy: 0.7143\n",
            "Epoch 9/20\n",
            "1/1 [==============================] - 0s 366ms/step - loss: 0.6770 - accuracy: 0.6000 - val_loss: 0.6657 - val_accuracy: 0.7143\n",
            "Epoch 10/20\n",
            "1/1 [==============================] - 0s 378ms/step - loss: 0.6744 - accuracy: 0.6000 - val_loss: 0.6620 - val_accuracy: 0.7143\n",
            "Epoch 11/20\n",
            "1/1 [==============================] - 0s 357ms/step - loss: 0.6715 - accuracy: 0.6000 - val_loss: 0.6579 - val_accuracy: 0.7143\n",
            "Epoch 12/20\n",
            "1/1 [==============================] - 0s 359ms/step - loss: 0.6684 - accuracy: 0.6000 - val_loss: 0.6539 - val_accuracy: 0.7143\n",
            "Epoch 13/20\n",
            "1/1 [==============================] - 0s 369ms/step - loss: 0.6649 - accuracy: 0.6000 - val_loss: 0.6497 - val_accuracy: 0.7143\n",
            "Epoch 14/20\n",
            "1/1 [==============================] - 0s 360ms/step - loss: 0.6612 - accuracy: 0.6000 - val_loss: 0.6454 - val_accuracy: 0.7143\n",
            "Epoch 15/20\n",
            "1/1 [==============================] - 0s 363ms/step - loss: 0.6573 - accuracy: 0.6000 - val_loss: 0.6407 - val_accuracy: 0.7143\n",
            "Epoch 16/20\n",
            "1/1 [==============================] - 0s 366ms/step - loss: 0.6532 - accuracy: 0.6000 - val_loss: 0.6355 - val_accuracy: 0.7143\n",
            "Epoch 17/20\n",
            "1/1 [==============================] - 0s 364ms/step - loss: 0.6487 - accuracy: 0.6000 - val_loss: 0.6297 - val_accuracy: 0.7143\n",
            "Epoch 18/20\n",
            "1/1 [==============================] - 0s 361ms/step - loss: 0.6437 - accuracy: 0.6000 - val_loss: 0.6235 - val_accuracy: 0.7143\n",
            "Epoch 19/20\n",
            "1/1 [==============================] - 0s 372ms/step - loss: 0.6381 - accuracy: 0.6000 - val_loss: 0.6172 - val_accuracy: 0.7143\n",
            "Epoch 20/20\n",
            "1/1 [==============================] - 0s 397ms/step - loss: 0.6318 - accuracy: 0.6000 - val_loss: 0.6110 - val_accuracy: 0.7143\n"
          ]
        }
      ]
    },
    {
      "cell_type": "code",
      "source": [
        "\n",
        "test = np.array(tokenizer.texts_to_sequences(['profit mudah dan cepat']))\n",
        "pred = pad_sequences(test, maxlen=120, padding=padding_type, truncating=trunc_type)"
      ],
      "metadata": {
        "id": "4FXcr-9V_ybC"
      },
      "execution_count": 118,
      "outputs": []
    },
    {
      "cell_type": "code",
      "source": [
        "hasil = modelzx.predict(pred)\n",
        "print(hasil)"
      ],
      "metadata": {
        "colab": {
          "base_uri": "https://localhost:8080/"
        },
        "id": "spLNIWAmB5AT",
        "outputId": "971e7441-df3d-431d-a01c-3209d7491303"
      },
      "execution_count": 119,
      "outputs": [
        {
          "output_type": "stream",
          "name": "stdout",
          "text": [
            "[[0.01311615]]\n"
          ]
        }
      ]
    },
    {
      "cell_type": "code",
      "source": [
        "if(hasil > 0.4):\n",
        "    print(\"legal\")\n",
        "else:\n",
        "    print(\"ilegal\")"
      ],
      "metadata": {
        "colab": {
          "base_uri": "https://localhost:8080/"
        },
        "id": "nusWqNGnCu8P",
        "outputId": "9b869a1e-6423-4f28-e117-c42e7b7baecb"
      },
      "execution_count": 107,
      "outputs": [
        {
          "output_type": "stream",
          "name": "stdout",
          "text": [
            "ilegal\n"
          ]
        }
      ]
    },
    {
      "cell_type": "code",
      "source": [
        "print(tokenizer.texts_to_sequences('hanya dengan 500 usd, dapatkan profit besar'))"
      ],
      "metadata": {
        "colab": {
          "base_uri": "https://localhost:8080/"
        },
        "id": "xKvFkhCsA80k",
        "outputId": "616279b3-fec1-4938-ecd9-644dcb38c2fa"
      },
      "execution_count": 38,
      "outputs": [
        {
          "output_type": "stream",
          "name": "stdout",
          "text": [
            "[[249], [17], [49], [250], [17], [], [62], [81], [49], [251], [17], [49], [], [252], [111], [111], [], [253], [93], [62], [], [], [62], [17], [112], [17], [113], [254], [17], [49], [], [112], [91], [255], [256], [257], [113], [], [258], [81], [93], [17], [91]]\n"
          ]
        }
      ]
    },
    {
      "cell_type": "markdown",
      "source": [
        "#saving model"
      ],
      "metadata": {
        "id": "zrbW3rHEGwO6"
      }
    },
    {
      "cell_type": "code",
      "source": [
        "import time\n",
        "saved_model_path = \"./{}.pb\".format(int(time.time()))\n",
        "model_lstm.save(saved_model_path)\n",
        "\n",
        "\n"
      ],
      "metadata": {
        "id": "4UklKH7LTtk1",
        "colab": {
          "base_uri": "https://localhost:8080/"
        },
        "outputId": "6244fa2f-bcc6-4e97-fbfb-fa83b170b2a1"
      },
      "execution_count": 122,
      "outputs": [
        {
          "output_type": "stream",
          "name": "stderr",
          "text": [
            "WARNING:absl:Found untraced functions such as lstm_cell_10_layer_call_fn, lstm_cell_10_layer_call_and_return_conditional_losses, lstm_cell_11_layer_call_fn, lstm_cell_11_layer_call_and_return_conditional_losses while saving (showing 4 of 4). These functions will not be directly callable after loading.\n"
          ]
        },
        {
          "output_type": "stream",
          "name": "stdout",
          "text": [
            "INFO:tensorflow:Assets written to: ./1654438139.pb/assets\n"
          ]
        },
        {
          "output_type": "stream",
          "name": "stderr",
          "text": [
            "INFO:tensorflow:Assets written to: ./1654438139.pb/assets\n",
            "WARNING:absl:<keras.layers.recurrent.LSTMCell object at 0x7f5f476dc690> has the same name 'LSTMCell' as a built-in Keras object. Consider renaming <class 'keras.layers.recurrent.LSTMCell'> to avoid naming conflicts when loading with `tf.keras.models.load_model`. If renaming is not possible, pass the object in the `custom_objects` parameter of the load function.\n",
            "WARNING:absl:<keras.layers.recurrent.LSTMCell object at 0x7f5f47fc1a10> has the same name 'LSTMCell' as a built-in Keras object. Consider renaming <class 'keras.layers.recurrent.LSTMCell'> to avoid naming conflicts when loading with `tf.keras.models.load_model`. If renaming is not possible, pass the object in the `custom_objects` parameter of the load function.\n"
          ]
        }
      ]
    },
    {
      "cell_type": "code",
      "source": [
        "!zip -r /content/file.zip /content/1654438139.pb"
      ],
      "metadata": {
        "colab": {
          "base_uri": "https://localhost:8080/"
        },
        "id": "8mXfoNFQNCBv",
        "outputId": "1b0ac444-6e3e-4d58-80d8-6692c7d7f48e"
      },
      "execution_count": 125,
      "outputs": [
        {
          "output_type": "stream",
          "name": "stdout",
          "text": [
            "  adding: content/1654438139.pb/ (stored 0%)\n",
            "  adding: content/1654438139.pb/assets/ (stored 0%)\n",
            "  adding: content/1654438139.pb/saved_model.pb (deflated 91%)\n",
            "  adding: content/1654438139.pb/keras_metadata.pb (deflated 90%)\n",
            "  adding: content/1654438139.pb/variables/ (stored 0%)\n",
            "  adding: content/1654438139.pb/variables/variables.index (deflated 66%)\n",
            "  adding: content/1654438139.pb/variables/variables.data-00000-of-00001 (deflated 68%)\n"
          ]
        }
      ]
    },
    {
      "cell_type": "code",
      "source": [
        "model_lstm.save(saved_model_path)"
      ],
      "metadata": {
        "colab": {
          "base_uri": "https://localhost:8080/",
          "height": 323
        },
        "id": "3wph7zu9MY0Q",
        "outputId": "30cda59b-8483-41f4-ac36-c65820b7e400"
      },
      "execution_count": 121,
      "outputs": [
        {
          "output_type": "error",
          "ename": "TypeError",
          "evalue": "ignored",
          "traceback": [
            "\u001b[0;31m---------------------------------------------------------------------------\u001b[0m",
            "\u001b[0;31mTypeError\u001b[0m                                 Traceback (most recent call last)",
            "\u001b[0;32m<ipython-input-121-f422ac1a83fa>\u001b[0m in \u001b[0;36m<module>\u001b[0;34m()\u001b[0m\n\u001b[0;32m----> 1\u001b[0;31m \u001b[0mtf\u001b[0m\u001b[0;34m.\u001b[0m\u001b[0mkeras\u001b[0m\u001b[0;34m.\u001b[0m\u001b[0mmodels\u001b[0m\u001b[0;34m.\u001b[0m\u001b[0msave_model\u001b[0m\u001b[0;34m(\u001b[0m\u001b[0mmodel_lstm\u001b[0m\u001b[0;34m)\u001b[0m\u001b[0;34m\u001b[0m\u001b[0;34m\u001b[0m\u001b[0m\n\u001b[0m",
            "\u001b[0;32m/usr/local/lib/python3.7/dist-packages/keras/utils/traceback_utils.py\u001b[0m in \u001b[0;36merror_handler\u001b[0;34m(*args, **kwargs)\u001b[0m\n\u001b[1;32m     65\u001b[0m     \u001b[0;32mexcept\u001b[0m \u001b[0mException\u001b[0m \u001b[0;32mas\u001b[0m \u001b[0me\u001b[0m\u001b[0;34m:\u001b[0m  \u001b[0;31m# pylint: disable=broad-except\u001b[0m\u001b[0;34m\u001b[0m\u001b[0;34m\u001b[0m\u001b[0m\n\u001b[1;32m     66\u001b[0m       \u001b[0mfiltered_tb\u001b[0m \u001b[0;34m=\u001b[0m \u001b[0m_process_traceback_frames\u001b[0m\u001b[0;34m(\u001b[0m\u001b[0me\u001b[0m\u001b[0;34m.\u001b[0m\u001b[0m__traceback__\u001b[0m\u001b[0;34m)\u001b[0m\u001b[0;34m\u001b[0m\u001b[0;34m\u001b[0m\u001b[0m\n\u001b[0;32m---> 67\u001b[0;31m       \u001b[0;32mraise\u001b[0m \u001b[0me\u001b[0m\u001b[0;34m.\u001b[0m\u001b[0mwith_traceback\u001b[0m\u001b[0;34m(\u001b[0m\u001b[0mfiltered_tb\u001b[0m\u001b[0;34m)\u001b[0m \u001b[0;32mfrom\u001b[0m \u001b[0;32mNone\u001b[0m\u001b[0;34m\u001b[0m\u001b[0;34m\u001b[0m\u001b[0m\n\u001b[0m\u001b[1;32m     68\u001b[0m     \u001b[0;32mfinally\u001b[0m\u001b[0;34m:\u001b[0m\u001b[0;34m\u001b[0m\u001b[0;34m\u001b[0m\u001b[0m\n\u001b[1;32m     69\u001b[0m       \u001b[0;32mdel\u001b[0m \u001b[0mfiltered_tb\u001b[0m\u001b[0;34m\u001b[0m\u001b[0;34m\u001b[0m\u001b[0m\n",
            "\u001b[0;32m/usr/local/lib/python3.7/dist-packages/keras/utils/traceback_utils.py\u001b[0m in \u001b[0;36merror_handler\u001b[0;34m(*args, **kwargs)\u001b[0m\n\u001b[1;32m     62\u001b[0m     \u001b[0mfiltered_tb\u001b[0m \u001b[0;34m=\u001b[0m \u001b[0;32mNone\u001b[0m\u001b[0;34m\u001b[0m\u001b[0;34m\u001b[0m\u001b[0m\n\u001b[1;32m     63\u001b[0m     \u001b[0;32mtry\u001b[0m\u001b[0;34m:\u001b[0m\u001b[0;34m\u001b[0m\u001b[0;34m\u001b[0m\u001b[0m\n\u001b[0;32m---> 64\u001b[0;31m       \u001b[0;32mreturn\u001b[0m \u001b[0mfn\u001b[0m\u001b[0;34m(\u001b[0m\u001b[0;34m*\u001b[0m\u001b[0margs\u001b[0m\u001b[0;34m,\u001b[0m \u001b[0;34m**\u001b[0m\u001b[0mkwargs\u001b[0m\u001b[0;34m)\u001b[0m\u001b[0;34m\u001b[0m\u001b[0;34m\u001b[0m\u001b[0m\n\u001b[0m\u001b[1;32m     65\u001b[0m     \u001b[0;32mexcept\u001b[0m \u001b[0mException\u001b[0m \u001b[0;32mas\u001b[0m \u001b[0me\u001b[0m\u001b[0;34m:\u001b[0m  \u001b[0;31m# pylint: disable=broad-except\u001b[0m\u001b[0;34m\u001b[0m\u001b[0;34m\u001b[0m\u001b[0m\n\u001b[1;32m     66\u001b[0m       \u001b[0mfiltered_tb\u001b[0m \u001b[0;34m=\u001b[0m \u001b[0m_process_traceback_frames\u001b[0m\u001b[0;34m(\u001b[0m\u001b[0me\u001b[0m\u001b[0;34m.\u001b[0m\u001b[0m__traceback__\u001b[0m\u001b[0;34m)\u001b[0m\u001b[0;34m\u001b[0m\u001b[0;34m\u001b[0m\u001b[0m\n",
            "\u001b[0;31mTypeError\u001b[0m: save_model() missing 1 required positional argument: 'filepath'"
          ]
        }
      ]
    },
    {
      "cell_type": "code",
      "source": [
        "model = '/model.h5'"
      ],
      "metadata": {
        "id": "yP9VZYml-CKs"
      },
      "execution_count": null,
      "outputs": []
    },
    {
      "cell_type": "code",
      "source": [
        "from tensorflow import keras\n",
        "modelzx = keras.models.load_model('/model.h5')"
      ],
      "metadata": {
        "id": "wEKkhpZ7-Qgf"
      },
      "execution_count": 116,
      "outputs": []
    },
    {
      "cell_type": "code",
      "source": [
        "tokenizer_json = tokenizer.to_json()\n",
        "with io.open('tokenizer.json', 'w', encoding='utf-8') as f:\n",
        "    f.write(json.dumps(tokenizer_json, ensure_ascii=False))"
      ],
      "metadata": {
        "id": "6WpQK6EeGyA1"
      },
      "execution_count": 114,
      "outputs": []
    },
    {
      "cell_type": "code",
      "source": [
        "import pickle\n",
        "\n",
        "# saving\n",
        "with open('tokenizer.pickle', 'wb') as handle:\n",
        "    pickle.dump(tokenizer, handle, protocol=pickle.HIGHEST_PROTOCOL)"
      ],
      "metadata": {
        "id": "3jiefy9AHvCb"
      },
      "execution_count": 115,
      "outputs": []
    }
  ]
}